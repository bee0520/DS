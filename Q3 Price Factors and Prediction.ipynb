{
 "cells": [
  {
   "cell_type": "markdown",
   "metadata": {},
   "source": [
    "## This work book will tell what are the factors affects the price and make prediction. "
   ]
  },
  {
   "cell_type": "code",
   "execution_count": 30,
   "metadata": {},
   "outputs": [],
   "source": [
    "import numpy as np\n",
    "import pandas as pd\n",
    "import seaborn as sns\n",
    "import matplotlib\n",
    "import matplotlib.pyplot as plt\n",
    "import statsmodels\n",
    "import sklearn\n",
    "from distutils.version import LooseVersion as Version\n",
    "from sklearn import __version__ as sklearn_version\n",
    "from sklearn import linear_model\n",
    "from sklearn.model_selection import train_test_split\n",
    "from sklearn.metrics import r2_score, mean_squared_error\n",
    "from IPython.display import Image\n",
    "%matplotlib inline\n",
    "\n",
    "df_calendar=pd.read_csv('C:/Users/wizchu/DS/calendar.csv')\n",
    "df_listings = pd.read_csv('C:/Users/wizchu/DS/listings.csv')\n",
    "df_reviews = pd.read_csv('C:/Users/wizchu/DS/reviews.csv')"
   ]
  },
  {
   "cell_type": "code",
   "execution_count": 18,
   "metadata": {},
   "outputs": [
    {
     "data": {
      "text/plain": [
       "Index(['id', 'listing_url', 'scrape_id', 'last_scraped', 'name', 'summary',\n",
       "       'space', 'description', 'experiences_offered', 'neighborhood_overview',\n",
       "       'notes', 'transit', 'thumbnail_url', 'medium_url', 'picture_url',\n",
       "       'xl_picture_url', 'host_id', 'host_url', 'host_name', 'host_since',\n",
       "       'host_location', 'host_about', 'host_response_time',\n",
       "       'host_response_rate', 'host_acceptance_rate', 'host_is_superhost',\n",
       "       'host_thumbnail_url', 'host_picture_url', 'host_neighbourhood',\n",
       "       'host_listings_count', 'host_total_listings_count',\n",
       "       'host_verifications', 'host_has_profile_pic', 'host_identity_verified',\n",
       "       'street', 'neighbourhood', 'neighbourhood_cleansed',\n",
       "       'neighbourhood_group_cleansed', 'city', 'state', 'zipcode', 'market',\n",
       "       'smart_location', 'country_code', 'country', 'latitude', 'longitude',\n",
       "       'is_location_exact', 'property_type', 'room_type', 'accommodates',\n",
       "       'bathrooms', 'bedrooms', 'beds', 'bed_type', 'amenities', 'square_feet',\n",
       "       'price', 'weekly_price', 'monthly_price', 'security_deposit',\n",
       "       'cleaning_fee', 'guests_included', 'extra_people', 'minimum_nights',\n",
       "       'maximum_nights', 'calendar_updated', 'has_availability',\n",
       "       'availability_30', 'availability_60', 'availability_90',\n",
       "       'availability_365', 'calendar_last_scraped', 'number_of_reviews',\n",
       "       'first_review', 'last_review', 'review_scores_rating',\n",
       "       'review_scores_accuracy', 'review_scores_cleanliness',\n",
       "       'review_scores_checkin', 'review_scores_communication',\n",
       "       'review_scores_location', 'review_scores_value', 'requires_license',\n",
       "       'license', 'jurisdiction_names', 'instant_bookable',\n",
       "       'cancellation_policy', 'require_guest_profile_picture',\n",
       "       'require_guest_phone_verification', 'calculated_host_listings_count',\n",
       "       'reviews_per_month'],\n",
       "      dtype='object')"
      ]
     },
     "execution_count": 18,
     "metadata": {},
     "output_type": "execute_result"
    }
   ],
   "source": [
    "#check all the columns\n",
    "df_listings.columns"
   ]
  },
  {
   "cell_type": "code",
   "execution_count": 5,
   "metadata": {},
   "outputs": [],
   "source": [
    "#These are the columns that I think will be  useful and affects the prices \n",
    "df_listings1=df_listings[['city','host_is_superhost','host_response_rate','host_acceptance_rate','neighbourhood',\n",
    "                         'room_type','property_type','bed_type','beds','bedrooms','bathrooms','square_feet',\n",
    "                         'number_of_reviews','extra_people', 'minimum_nights','review_scores_rating','price']]"
   ]
  },
  {
   "cell_type": "markdown",
   "metadata": {},
   "source": [
    "### Understanding the Data"
   ]
  },
  {
   "cell_type": "code",
   "execution_count": 6,
   "metadata": {},
   "outputs": [
    {
     "data": {
      "text/plain": [
       "city                    0.000000\n",
       "host_is_superhost       0.000524\n",
       "host_response_rate      0.136983\n",
       "host_acceptance_rate    0.202462\n",
       "neighbourhood           0.108958\n",
       "room_type               0.000000\n",
       "property_type           0.000262\n",
       "bed_type                0.000000\n",
       "beds                    0.000262\n",
       "bedrooms                0.001572\n",
       "bathrooms               0.004191\n",
       "square_feet             0.974594\n",
       "number_of_reviews       0.000000\n",
       "extra_people            0.000000\n",
       "minimum_nights          0.000000\n",
       "review_scores_rating    0.169460\n",
       "price                   0.000000\n",
       "dtype: float64"
      ]
     },
     "execution_count": 6,
     "metadata": {},
     "output_type": "execute_result"
    }
   ],
   "source": [
    "df_listings1.shape\n",
    "df_listings1.isnull().sum()/df_listings1.shape[0]"
   ]
  },
  {
   "cell_type": "code",
   "execution_count": 7,
   "metadata": {},
   "outputs": [],
   "source": [
    "# look at the square_feet, seems like it all Nan. I drop the column\n",
    "df_listings1=df_listings1.drop('square_feet',axis=1)"
   ]
  },
  {
   "cell_type": "code",
   "execution_count": 8,
   "metadata": {},
   "outputs": [],
   "source": [
    "# dropping all the NaN rows \n",
    "df_listings1=df_listings1.dropna() "
   ]
  },
  {
   "cell_type": "code",
   "execution_count": 9,
   "metadata": {},
   "outputs": [
    {
     "data": {
      "text/plain": [
       "(2404, 16)"
      ]
     },
     "execution_count": 9,
     "metadata": {},
     "output_type": "execute_result"
    }
   ],
   "source": [
    "# after dropping I have 2404 rows \n",
    "df_listings1.shape "
   ]
  },
  {
   "cell_type": "code",
   "execution_count": 11,
   "metadata": {},
   "outputs": [
    {
     "data": {
      "text/html": [
       "<div>\n",
       "<style scoped>\n",
       "    .dataframe tbody tr th:only-of-type {\n",
       "        vertical-align: middle;\n",
       "    }\n",
       "\n",
       "    .dataframe tbody tr th {\n",
       "        vertical-align: top;\n",
       "    }\n",
       "\n",
       "    .dataframe thead th {\n",
       "        text-align: right;\n",
       "    }\n",
       "</style>\n",
       "<table border=\"1\" class=\"dataframe\">\n",
       "  <thead>\n",
       "    <tr style=\"text-align: right;\">\n",
       "      <th></th>\n",
       "      <th>beds</th>\n",
       "      <th>bedrooms</th>\n",
       "      <th>bathrooms</th>\n",
       "      <th>number_of_reviews</th>\n",
       "      <th>minimum_nights</th>\n",
       "      <th>review_scores_rating</th>\n",
       "    </tr>\n",
       "  </thead>\n",
       "  <tbody>\n",
       "    <tr>\n",
       "      <th>count</th>\n",
       "      <td>2404.000000</td>\n",
       "      <td>2404.000000</td>\n",
       "      <td>2404.000000</td>\n",
       "      <td>2404.000000</td>\n",
       "      <td>2404.000000</td>\n",
       "      <td>2404.000000</td>\n",
       "    </tr>\n",
       "    <tr>\n",
       "      <th>mean</th>\n",
       "      <td>1.765807</td>\n",
       "      <td>1.286190</td>\n",
       "      <td>1.254992</td>\n",
       "      <td>30.799917</td>\n",
       "      <td>2.446339</td>\n",
       "      <td>94.631448</td>\n",
       "    </tr>\n",
       "    <tr>\n",
       "      <th>std</th>\n",
       "      <td>1.179508</td>\n",
       "      <td>0.860446</td>\n",
       "      <td>0.598823</td>\n",
       "      <td>43.388003</td>\n",
       "      <td>20.449120</td>\n",
       "      <td>6.258858</td>\n",
       "    </tr>\n",
       "    <tr>\n",
       "      <th>min</th>\n",
       "      <td>1.000000</td>\n",
       "      <td>0.000000</td>\n",
       "      <td>0.000000</td>\n",
       "      <td>1.000000</td>\n",
       "      <td>1.000000</td>\n",
       "      <td>20.000000</td>\n",
       "    </tr>\n",
       "    <tr>\n",
       "      <th>25%</th>\n",
       "      <td>1.000000</td>\n",
       "      <td>1.000000</td>\n",
       "      <td>1.000000</td>\n",
       "      <td>5.750000</td>\n",
       "      <td>1.000000</td>\n",
       "      <td>93.000000</td>\n",
       "    </tr>\n",
       "    <tr>\n",
       "      <th>50%</th>\n",
       "      <td>1.000000</td>\n",
       "      <td>1.000000</td>\n",
       "      <td>1.000000</td>\n",
       "      <td>15.000000</td>\n",
       "      <td>2.000000</td>\n",
       "      <td>96.000000</td>\n",
       "    </tr>\n",
       "    <tr>\n",
       "      <th>75%</th>\n",
       "      <td>2.000000</td>\n",
       "      <td>2.000000</td>\n",
       "      <td>1.000000</td>\n",
       "      <td>38.000000</td>\n",
       "      <td>2.000000</td>\n",
       "      <td>99.000000</td>\n",
       "    </tr>\n",
       "    <tr>\n",
       "      <th>max</th>\n",
       "      <td>15.000000</td>\n",
       "      <td>6.000000</td>\n",
       "      <td>8.000000</td>\n",
       "      <td>474.000000</td>\n",
       "      <td>1000.000000</td>\n",
       "      <td>100.000000</td>\n",
       "    </tr>\n",
       "  </tbody>\n",
       "</table>\n",
       "</div>"
      ],
      "text/plain": [
       "              beds     bedrooms    bathrooms  number_of_reviews  \\\n",
       "count  2404.000000  2404.000000  2404.000000        2404.000000   \n",
       "mean      1.765807     1.286190     1.254992          30.799917   \n",
       "std       1.179508     0.860446     0.598823          43.388003   \n",
       "min       1.000000     0.000000     0.000000           1.000000   \n",
       "25%       1.000000     1.000000     1.000000           5.750000   \n",
       "50%       1.000000     1.000000     1.000000          15.000000   \n",
       "75%       2.000000     2.000000     1.000000          38.000000   \n",
       "max      15.000000     6.000000     8.000000         474.000000   \n",
       "\n",
       "       minimum_nights  review_scores_rating  \n",
       "count     2404.000000           2404.000000  \n",
       "mean         2.446339             94.631448  \n",
       "std         20.449120              6.258858  \n",
       "min          1.000000             20.000000  \n",
       "25%          1.000000             93.000000  \n",
       "50%          2.000000             96.000000  \n",
       "75%          2.000000             99.000000  \n",
       "max       1000.000000            100.000000  "
      ]
     },
     "execution_count": 11,
     "metadata": {},
     "output_type": "execute_result"
    }
   ],
   "source": [
    "df_listings1.describe()"
   ]
  },
  {
   "cell_type": "markdown",
   "metadata": {},
   "source": [
    "### Preparing the data"
   ]
  },
  {
   "cell_type": "code",
   "execution_count": 19,
   "metadata": {},
   "outputs": [],
   "source": [
    "# replace $ and % in order to do heatmap and prediction\n",
    "df_listings1['price']=df_listings1['price'].str.replace(\"$\", \"\").astype(\"float\")\n",
    "df_listings1['extra_people']=df_listings1['extra_people'].str.replace(\"$\", \"\").astype(\"float\")\n",
    "df_listings1['host_response_rate'] = df_listings1['host_response_rate'].str.replace(\"%\", \"\").astype(\"float\")\n",
    "df_listings1['host_acceptance_rate'] = df_listings1['host_acceptance_rate'].str.replace(\"%\", \"\").astype(\"float\")"
   ]
  },
  {
   "cell_type": "code",
   "execution_count": 20,
   "metadata": {},
   "outputs": [
    {
     "data": {
      "image/png": "[encoded data removed]",
      "text/plain": [
       "<Figure size 864x576 with 2 Axes>"
      ]
     },
     "metadata": {
      "needs_background": "light"
     },
     "output_type": "display_data"
    }
   ],
   "source": [
    "#using heatmap to see\n",
    "plt.figure(figsize=(12,8))\n",
    "sns.heatmap(df_listings1.corr(), annot=True,);"
   ]
  },
  {
   "cell_type": "markdown",
   "metadata": {},
   "source": [
    "### From the heat map we see that the beds, bedrooms, bathrooms number affect the price most. "
   ]
  },
  {
   "cell_type": "code",
   "execution_count": null,
   "metadata": {},
   "outputs": [],
   "source": [
    "## preparing data for modeling "
   ]
  },
  {
   "cell_type": "code",
   "execution_count": 23,
   "metadata": {},
   "outputs": [
    {
     "data": {
      "text/plain": [
       "Index(['city', 'host_is_superhost', 'neighbourhood', 'room_type',\n",
       "       'property_type', 'bed_type'],\n",
       "      dtype='object')"
      ]
     },
     "execution_count": 23,
     "metadata": {},
     "output_type": "execute_result"
    }
   ],
   "source": [
    "# waht are the categories data\n",
    "df_listings1.select_dtypes(include=['object']).columns"
   ]
  },
  {
   "cell_type": "code",
   "execution_count": 24,
   "metadata": {},
   "outputs": [],
   "source": [
    "# make a dataframe for dummy\n",
    "dummy_column=df_listings1.select_dtypes(include=['object']).columns\n",
    "dummy_cat=pd.get_dummies(df_listings1[dummy_column])"
   ]
  },
  {
   "cell_type": "code",
   "execution_count": 25,
   "metadata": {},
   "outputs": [
    {
     "data": {
      "text/plain": [
       "(2404, 123)"
      ]
     },
     "execution_count": 25,
     "metadata": {},
     "output_type": "execute_result"
    }
   ],
   "source": [
    "#create my final prediction dataset with dummy dataset and the orignal dataset\n",
    "df_final=pd.concat([df_listings1,dummy_cat],axis=1)\n",
    "df_final.shape"
   ]
  },
  {
   "cell_type": "code",
   "execution_count": 26,
   "metadata": {},
   "outputs": [],
   "source": [
    "#dropping the catagory columns \n",
    "df_final=df_final.drop(df_final[dummy_column],axis=1)"
   ]
  },
  {
   "cell_type": "code",
   "execution_count": 28,
   "metadata": {},
   "outputs": [],
   "source": [
    "#create x for variables and y for prediction \n",
    "x=df_final.drop('price',axis=1)\n",
    "y=df_final['price']"
   ]
  },
  {
   "cell_type": "code",
   "execution_count": 32,
   "metadata": {},
   "outputs": [],
   "source": [
    "# build the models \n",
    "X_train, X_test, y_train, y_test = train_test_split(x, y, test_size = 0.25, random_state=1)\n",
    "m_model = linear_model.LinearRegression()\n",
    "m_model.fit(X_train, y_train)\n",
    "y_train_pred = slr.predict(X_train)\n",
    "y_test_pred = slr.predict(X_test)"
   ]
  },
  {
   "cell_type": "code",
   "execution_count": 33,
   "metadata": {},
   "outputs": [
    {
     "name": "stdout",
     "output_type": "stream",
     "text": [
      "0.6392014784153555\n",
      "2546.5441547873875\n"
     ]
    }
   ],
   "source": [
    "# checking the score of the model \n",
    "print(r2_score(y_train, m_model.predict(X_train))) \n",
    "print(mean_squared_error(y_train, m_model.predict(X_train)))"
   ]
  },
  {
   "cell_type": "code",
   "execution_count": null,
   "metadata": {},
   "outputs": [],
   "source": []
  }
 ],
 "metadata": {
  "kernelspec": {
   "display_name": "Python 3",
   "language": "python",
   "name": "python3"
  },
  "language_info": {
   "codemirror_mode": {
    "name": "ipython",
    "version": 3
   },
   "file_extension": ".py",
   "mimetype": "text/x-python",
   "name": "python",
   "nbconvert_exporter": "python",
   "pygments_lexer": "ipython3",
   "version": "3.8.8"
  }
 },
 "nbformat": 4,
 "nbformat_minor": 2
}
